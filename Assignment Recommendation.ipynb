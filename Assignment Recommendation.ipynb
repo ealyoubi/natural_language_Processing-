{
 "cells": [
  {
   "cell_type": "code",
   "execution_count": 12,
   "id": "b936f358",
   "metadata": {},
   "outputs": [],
   "source": [
    "import pandas as pd\n",
    "from sklearn.feature_extraction.text import TfidfVectorizer, CountVectorizer\n",
    "from sklearn.metrics.pairwise import linear_kernel, cosine_similarity"
   ]
  },
  {
   "cell_type": "code",
   "execution_count": 6,
   "id": "1f0a644f",
   "metadata": {},
   "outputs": [
    {
     "data": {
      "text/html": [
       "<div>\n",
       "<style scoped>\n",
       "    .dataframe tbody tr th:only-of-type {\n",
       "        vertical-align: middle;\n",
       "    }\n",
       "\n",
       "    .dataframe tbody tr th {\n",
       "        vertical-align: top;\n",
       "    }\n",
       "\n",
       "    .dataframe thead th {\n",
       "        text-align: right;\n",
       "    }\n",
       "</style>\n",
       "<table border=\"1\" class=\"dataframe\">\n",
       "  <thead>\n",
       "    <tr style=\"text-align: right;\">\n",
       "      <th></th>\n",
       "      <th>Positive</th>\n",
       "      <th>Negative</th>\n",
       "      <th>Game_id</th>\n",
       "      <th>Game_name</th>\n",
       "      <th>Positive_Rate</th>\n",
       "      <th>links</th>\n",
       "      <th>Game_description</th>\n",
       "    </tr>\n",
       "  </thead>\n",
       "  <tbody>\n",
       "    <tr>\n",
       "      <th>0</th>\n",
       "      <td>285421</td>\n",
       "      <td>3487</td>\n",
       "      <td>620</td>\n",
       "      <td>Portal 2</td>\n",
       "      <td>0.987930</td>\n",
       "      <td>https://store.steampowered.com/app/620</td>\n",
       "      <td>&lt;div class=\"game_area_description\" id=\"game_ar...</td>\n",
       "    </tr>\n",
       "    <tr>\n",
       "      <th>1</th>\n",
       "      <td>102805</td>\n",
       "      <td>1640</td>\n",
       "      <td>400</td>\n",
       "      <td>Portal</td>\n",
       "      <td>0.984298</td>\n",
       "      <td>https://store.steampowered.com/app/400</td>\n",
       "      <td>&lt;div class=\"game_area_description\" id=\"game_ar...</td>\n",
       "    </tr>\n",
       "    <tr>\n",
       "      <th>2</th>\n",
       "      <td>439665</td>\n",
       "      <td>8619</td>\n",
       "      <td>413150</td>\n",
       "      <td>Stardew Valley</td>\n",
       "      <td>0.980773</td>\n",
       "      <td>https://store.steampowered.com/app/413150</td>\n",
       "      <td>&lt;div class=\"game_area_description\" id=\"game_ar...</td>\n",
       "    </tr>\n",
       "    <tr>\n",
       "      <th>3</th>\n",
       "      <td>476762</td>\n",
       "      <td>9701</td>\n",
       "      <td>431960</td>\n",
       "      <td>Wallpaper Engine</td>\n",
       "      <td>0.980058</td>\n",
       "      <td>https://store.steampowered.com/app/431960</td>\n",
       "      <td>&lt;div class=\"game_area_description\" id=\"game_ar...</td>\n",
       "    </tr>\n",
       "    <tr>\n",
       "      <th>4</th>\n",
       "      <td>910629</td>\n",
       "      <td>19342</td>\n",
       "      <td>105600</td>\n",
       "      <td>Terraria</td>\n",
       "      <td>0.979202</td>\n",
       "      <td>https://store.steampowered.com/app/105600</td>\n",
       "      <td>&lt;div class=\"game_area_description\" id=\"game_ar...</td>\n",
       "    </tr>\n",
       "  </tbody>\n",
       "</table>\n",
       "</div>"
      ],
      "text/plain": [
       "   Positive  Negative  Game_id         Game_name  Positive_Rate  \\\n",
       "0    285421      3487      620          Portal 2       0.987930   \n",
       "1    102805      1640      400            Portal       0.984298   \n",
       "2    439665      8619   413150    Stardew Valley       0.980773   \n",
       "3    476762      9701   431960  Wallpaper Engine       0.980058   \n",
       "4    910629     19342   105600          Terraria       0.979202   \n",
       "\n",
       "                                       links  \\\n",
       "0     https://store.steampowered.com/app/620   \n",
       "1     https://store.steampowered.com/app/400   \n",
       "2  https://store.steampowered.com/app/413150   \n",
       "3  https://store.steampowered.com/app/431960   \n",
       "4  https://store.steampowered.com/app/105600   \n",
       "\n",
       "                                    Game_description  \n",
       "0  <div class=\"game_area_description\" id=\"game_ar...  \n",
       "1  <div class=\"game_area_description\" id=\"game_ar...  \n",
       "2  <div class=\"game_area_description\" id=\"game_ar...  \n",
       "3  <div class=\"game_area_description\" id=\"game_ar...  \n",
       "4  <div class=\"game_area_description\" id=\"game_ar...  "
      ]
     },
     "execution_count": 6,
     "metadata": {},
     "output_type": "execute_result"
    }
   ],
   "source": [
    "data = pd. read_csv('Steam Dataset.csv')\n",
    "data.head()"
   ]
  },
  {
   "cell_type": "markdown",
   "id": "72cc49c4",
   "metadata": {},
   "source": [
    "# Feature Extraction"
   ]
  },
  {
   "cell_type": "code",
   "execution_count": 9,
   "id": "6d427825",
   "metadata": {},
   "outputs": [],
   "source": [
    "# let's do some feature extraction from the tetx description using Tf-idf\n",
    "tf = TfidfVectorizer(analyzer='word',ngram_range=(1, 2),min_df=0, stop_words='english')\n",
    "tfidf_matrix = tf.fit_transform(data['Game_description'])"
   ]
  },
  {
   "cell_type": "code",
   "execution_count": 10,
   "id": "11cd79cd",
   "metadata": {},
   "outputs": [
    {
     "data": {
      "text/plain": [
       "(100, 21959)"
      ]
     },
     "execution_count": 10,
     "metadata": {},
     "output_type": "execute_result"
    }
   ],
   "source": [
    "tfidf_matrix.shape"
   ]
  },
  {
   "cell_type": "code",
   "execution_count": 13,
   "id": "bec6db38",
   "metadata": {},
   "outputs": [],
   "source": [
    "cosine_sim = linear_kernel(tfidf_matrix, tfidf_matrix)"
   ]
  },
  {
   "cell_type": "code",
   "execution_count": 14,
   "id": "b4be4803",
   "metadata": {},
   "outputs": [
    {
     "name": "stdout",
     "output_type": "stream",
     "text": [
      "(100, 100)\n",
      "[1.         0.10467383 0.27041798 0.14488692 0.14849364 0.03103094\n",
      " 0.18031773 0.10143294 0.16191556 0.20345069 0.05874203 0.05797221\n",
      " 0.08736863 0.0418697  0.12424839 0.04388966 0.21795118 0.17790132\n",
      " 0.18511241 0.05038385 0.12150246 0.14585019 0.09200489 0.11391628\n",
      " 0.10138283 0.03924035 0.19778871 0.08757517 0.26690213 0.04152594\n",
      " 0.06882484 0.30170971 0.14407873 0.14928214 0.23056317 0.11592873\n",
      " 0.33866032 0.00961042 0.06047891 0.19261151 0.10302336 0.18877852\n",
      " 0.01978548 0.22373538 0.15391474 0.0821589  0.0471858  0.2939425\n",
      " 0.05394429 0.02431148 0.1149811  0.06852005 0.13991711 0.03194006\n",
      " 0.03811705 0.18095348 0.19657051 0.03565375 0.1164851  0.10511097\n",
      " 0.09545167 0.21810919 0.05833022 0.08958913 0.05889727 0.11348202\n",
      " 0.04641729 0.01944042 0.04955943 0.09059759 0.0222264  0.10744498\n",
      " 0.03317934 0.23020859 0.07597496 0.19302998 0.05213717 0.02721882\n",
      " 0.05148509 0.14385143 0.12679521 0.05595783 0.20313094 0.02724275\n",
      " 0.05885664 0.03775161 0.07650762 0.0614583  0.15584573 0.07995749\n",
      " 0.04942893 0.16955968 0.10629847 0.0967659  0.29779191 0.06317566\n",
      " 0.08886752 0.0740235  0.14040762 0.053576  ]\n"
     ]
    }
   ],
   "source": [
    "print(cosine_sim.shape)\n",
    "print(cosine_sim[0])"
   ]
  },
  {
   "cell_type": "markdown",
   "id": "6bdf1f42",
   "metadata": {},
   "source": [
    "# Content Based Recommender"
   ]
  },
  {
   "cell_type": "code",
   "execution_count": 15,
   "id": "b97bfb2c",
   "metadata": {},
   "outputs": [],
   "source": [
    "data = data.reset_index()\n",
    "names = data['Game_name']\n",
    "indices = pd.Series(data.index, index=data['Game_name'])"
   ]
  },
  {
   "cell_type": "code",
   "execution_count": 18,
   "id": "4f6fa95a",
   "metadata": {},
   "outputs": [],
   "source": [
    "def get_recommendations(Game_name):\n",
    "    idx = indices[Game_name]\n",
    "    sim_scores = list(enumerate(cosine_sim[idx]))\n",
    "    sim_scores = sorted(sim_scores, key=lambda x: x[1], reverse=True)\n",
    "    sim_scores = sim_scores[1:31] # you can change these numbers to retrieve more or less than 30 recommendations\n",
    "    game_indices = [i[0] for i in sim_scores]\n",
    "    return names.iloc[game_indices]"
   ]
  },
  {
   "cell_type": "code",
   "execution_count": 19,
   "id": "3679b3d9",
   "metadata": {},
   "outputs": [
    {
     "data": {
      "text/plain": [
       "36                          Unturned\n",
       "47                     7 Days to Die\n",
       "94            Street Warriors Online\n",
       "28                         Grim Dawn\n",
       "31    Call of Duty: Modern Warfare 2\n",
       "34                          Among Us\n",
       "0                           Portal 2\n",
       "43              No More Room in Hell\n",
       "73                         Fallout 4\n",
       "61                        Brawlhalla\n",
       "Name: Game_name, dtype: object"
      ]
     },
     "execution_count": 19,
     "metadata": {},
     "output_type": "execute_result"
    }
   ],
   "source": [
    "get_recommendations('Stardew Valley').head(10)"
   ]
  },
  {
   "cell_type": "code",
   "execution_count": 20,
   "id": "0d641ee3",
   "metadata": {},
   "outputs": [
    {
     "data": {
      "text/plain": [
       "36                          Unturned\n",
       "31    Call of Duty: Modern Warfare 2\n",
       "94            Street Warriors Online\n",
       "47                     7 Days to Die\n",
       "2                     Stardew Valley\n",
       "28                         Grim Dawn\n",
       "34                          Among Us\n",
       "73                         Fallout 4\n",
       "43              No More Room in Hell\n",
       "61                        Brawlhalla\n",
       "Name: Game_name, dtype: object"
      ]
     },
     "execution_count": 20,
     "metadata": {},
     "output_type": "execute_result"
    }
   ],
   "source": [
    "get_recommendations('Portal 2').head(10)"
   ]
  },
  {
   "cell_type": "code",
   "execution_count": null,
   "id": "e1292885",
   "metadata": {},
   "outputs": [],
   "source": []
  }
 ],
 "metadata": {
  "kernelspec": {
   "display_name": "Python 3 (ipykernel)",
   "language": "python",
   "name": "python3"
  },
  "language_info": {
   "codemirror_mode": {
    "name": "ipython",
    "version": 3
   },
   "file_extension": ".py",
   "mimetype": "text/x-python",
   "name": "python",
   "nbconvert_exporter": "python",
   "pygments_lexer": "ipython3",
   "version": "3.8.8"
  }
 },
 "nbformat": 4,
 "nbformat_minor": 5
}
