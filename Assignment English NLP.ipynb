{
 "cells": [
  {
   "cell_type": "code",
   "execution_count": 19,
   "id": "5124e317",
   "metadata": {},
   "outputs": [],
   "source": [
    "import pandas as pd\n",
    "from sklearn.model_selection import train_test_split\n",
    "from sklearn.pipeline import Pipeline\n",
    "from sklearn.feature_extraction.text import CountVectorizer, TfidfTransformer\n",
    "from sklearn.linear_model import LogisticRegression\n",
    "from sklearn.metrics import classification_report, confusion_matrix, precision_recall_fscore_support as score"
   ]
  },
  {
   "cell_type": "markdown",
   "id": "db7ca7b9",
   "metadata": {},
   "source": [
    "### Step #1 Load the Data"
   ]
  },
  {
   "cell_type": "code",
   "execution_count": 20,
   "id": "55e3bf3b",
   "metadata": {},
   "outputs": [],
   "source": [
    "data = pd.read_csv(\"all-data.csv\") "
   ]
  },
  {
   "cell_type": "code",
   "execution_count": 21,
   "id": "843d1608",
   "metadata": {},
   "outputs": [
    {
     "data": {
      "text/html": [
       "<div>\n",
       "<style scoped>\n",
       "    .dataframe tbody tr th:only-of-type {\n",
       "        vertical-align: middle;\n",
       "    }\n",
       "\n",
       "    .dataframe tbody tr th {\n",
       "        vertical-align: top;\n",
       "    }\n",
       "\n",
       "    .dataframe thead th {\n",
       "        text-align: right;\n",
       "    }\n",
       "</style>\n",
       "<table border=\"1\" class=\"dataframe\">\n",
       "  <thead>\n",
       "    <tr style=\"text-align: right;\">\n",
       "      <th></th>\n",
       "      <th>sentiment</th>\n",
       "      <th>sentence</th>\n",
       "    </tr>\n",
       "  </thead>\n",
       "  <tbody>\n",
       "    <tr>\n",
       "      <th>0</th>\n",
       "      <td>neutral</td>\n",
       "      <td>According to Gran , the company has no plans t...</td>\n",
       "    </tr>\n",
       "    <tr>\n",
       "      <th>1</th>\n",
       "      <td>neutral</td>\n",
       "      <td>Technopolis plans to develop in stages an area...</td>\n",
       "    </tr>\n",
       "    <tr>\n",
       "      <th>2</th>\n",
       "      <td>negative</td>\n",
       "      <td>The international electronic industry company ...</td>\n",
       "    </tr>\n",
       "    <tr>\n",
       "      <th>3</th>\n",
       "      <td>positive</td>\n",
       "      <td>With the new production plant the company woul...</td>\n",
       "    </tr>\n",
       "    <tr>\n",
       "      <th>4</th>\n",
       "      <td>positive</td>\n",
       "      <td>According to the company 's updated strategy f...</td>\n",
       "    </tr>\n",
       "    <tr>\n",
       "      <th>...</th>\n",
       "      <td>...</td>\n",
       "      <td>...</td>\n",
       "    </tr>\n",
       "    <tr>\n",
       "      <th>4841</th>\n",
       "      <td>negative</td>\n",
       "      <td>LONDON MarketWatch -- Share prices ended lower...</td>\n",
       "    </tr>\n",
       "    <tr>\n",
       "      <th>4842</th>\n",
       "      <td>neutral</td>\n",
       "      <td>Rinkuskiai 's beer sales fell by 6.5 per cent ...</td>\n",
       "    </tr>\n",
       "    <tr>\n",
       "      <th>4843</th>\n",
       "      <td>negative</td>\n",
       "      <td>Operating profit fell to EUR 35.4 mn from EUR ...</td>\n",
       "    </tr>\n",
       "    <tr>\n",
       "      <th>4844</th>\n",
       "      <td>negative</td>\n",
       "      <td>Net sales of the Paper segment decreased to EU...</td>\n",
       "    </tr>\n",
       "    <tr>\n",
       "      <th>4845</th>\n",
       "      <td>negative</td>\n",
       "      <td>Sales in Finland decreased by 10.5 % in Januar...</td>\n",
       "    </tr>\n",
       "  </tbody>\n",
       "</table>\n",
       "<p>4846 rows × 2 columns</p>\n",
       "</div>"
      ],
      "text/plain": [
       "     sentiment                                           sentence\n",
       "0      neutral  According to Gran , the company has no plans t...\n",
       "1      neutral  Technopolis plans to develop in stages an area...\n",
       "2     negative  The international electronic industry company ...\n",
       "3     positive  With the new production plant the company woul...\n",
       "4     positive  According to the company 's updated strategy f...\n",
       "...        ...                                                ...\n",
       "4841  negative  LONDON MarketWatch -- Share prices ended lower...\n",
       "4842   neutral  Rinkuskiai 's beer sales fell by 6.5 per cent ...\n",
       "4843  negative  Operating profit fell to EUR 35.4 mn from EUR ...\n",
       "4844  negative  Net sales of the Paper segment decreased to EU...\n",
       "4845  negative  Sales in Finland decreased by 10.5 % in Januar...\n",
       "\n",
       "[4846 rows x 2 columns]"
      ]
     },
     "execution_count": 21,
     "metadata": {},
     "output_type": "execute_result"
    }
   ],
   "source": [
    "data"
   ]
  },
  {
   "cell_type": "markdown",
   "id": "6bee3e34",
   "metadata": {},
   "source": [
    "## Step #2 Clean and Preprocess the Data\n"
   ]
  },
  {
   "cell_type": "code",
   "execution_count": 22,
   "id": "4d3220ca",
   "metadata": {},
   "outputs": [],
   "source": [
    "# Define Class Integer Values\n",
    "cleanup_nums = {\"sentiment\":{\"negative\": 1, \"neutral\": 2, \"positive\": 3}}"
   ]
  },
  {
   "cell_type": "code",
   "execution_count": 33,
   "id": "508d4bd3",
   "metadata": {},
   "outputs": [
    {
     "data": {
      "text/html": [
       "<div>\n",
       "<style scoped>\n",
       "    .dataframe tbody tr th:only-of-type {\n",
       "        vertical-align: middle;\n",
       "    }\n",
       "\n",
       "    .dataframe tbody tr th {\n",
       "        vertical-align: top;\n",
       "    }\n",
       "\n",
       "    .dataframe thead th {\n",
       "        text-align: right;\n",
       "    }\n",
       "</style>\n",
       "<table border=\"1\" class=\"dataframe\">\n",
       "  <thead>\n",
       "    <tr style=\"text-align: right;\">\n",
       "      <th></th>\n",
       "      <th>sentiment</th>\n",
       "      <th>sentence</th>\n",
       "    </tr>\n",
       "  </thead>\n",
       "  <tbody>\n",
       "    <tr>\n",
       "      <th>0</th>\n",
       "      <td>2</td>\n",
       "      <td>According to Gran , the company has no plans t...</td>\n",
       "    </tr>\n",
       "    <tr>\n",
       "      <th>1</th>\n",
       "      <td>2</td>\n",
       "      <td>Technopolis plans to develop in stages an area...</td>\n",
       "    </tr>\n",
       "    <tr>\n",
       "      <th>2</th>\n",
       "      <td>1</td>\n",
       "      <td>The international electronic industry company ...</td>\n",
       "    </tr>\n",
       "    <tr>\n",
       "      <th>3</th>\n",
       "      <td>3</td>\n",
       "      <td>With the new production plant the company woul...</td>\n",
       "    </tr>\n",
       "    <tr>\n",
       "      <th>4</th>\n",
       "      <td>3</td>\n",
       "      <td>According to the company 's updated strategy f...</td>\n",
       "    </tr>\n",
       "    <tr>\n",
       "      <th>...</th>\n",
       "      <td>...</td>\n",
       "      <td>...</td>\n",
       "    </tr>\n",
       "    <tr>\n",
       "      <th>4841</th>\n",
       "      <td>1</td>\n",
       "      <td>LONDON MarketWatch -- Share prices ended lower...</td>\n",
       "    </tr>\n",
       "    <tr>\n",
       "      <th>4842</th>\n",
       "      <td>2</td>\n",
       "      <td>Rinkuskiai 's beer sales fell by 6.5 per cent ...</td>\n",
       "    </tr>\n",
       "    <tr>\n",
       "      <th>4843</th>\n",
       "      <td>1</td>\n",
       "      <td>Operating profit fell to EUR 35.4 mn from EUR ...</td>\n",
       "    </tr>\n",
       "    <tr>\n",
       "      <th>4844</th>\n",
       "      <td>1</td>\n",
       "      <td>Net sales of the Paper segment decreased to EU...</td>\n",
       "    </tr>\n",
       "    <tr>\n",
       "      <th>4845</th>\n",
       "      <td>1</td>\n",
       "      <td>Sales in Finland decreased by 10.5 % in Januar...</td>\n",
       "    </tr>\n",
       "  </tbody>\n",
       "</table>\n",
       "<p>4846 rows × 2 columns</p>\n",
       "</div>"
      ],
      "text/plain": [
       "      sentiment                                           sentence\n",
       "0             2  According to Gran , the company has no plans t...\n",
       "1             2  Technopolis plans to develop in stages an area...\n",
       "2             1  The international electronic industry company ...\n",
       "3             3  With the new production plant the company woul...\n",
       "4             3  According to the company 's updated strategy f...\n",
       "...         ...                                                ...\n",
       "4841          1  LONDON MarketWatch -- Share prices ended lower...\n",
       "4842          2  Rinkuskiai 's beer sales fell by 6.5 per cent ...\n",
       "4843          1  Operating profit fell to EUR 35.4 mn from EUR ...\n",
       "4844          1  Net sales of the Paper segment decreased to EU...\n",
       "4845          1  Sales in Finland decreased by 10.5 % in Januar...\n",
       "\n",
       "[4846 rows x 2 columns]"
      ]
     },
     "execution_count": 33,
     "metadata": {},
     "output_type": "execute_result"
    }
   ],
   "source": [
    "# Replace the Classes with Integer Values\n",
    "data.replace(cleanup_nums, inplace=True)\n",
    "data"
   ]
  },
  {
   "cell_type": "markdown",
   "id": "4464d3cb",
   "metadata": {},
   "source": [
    "### Step #3 Train a Logistic Regression Classifier\n"
   ]
  },
  {
   "cell_type": "code",
   "execution_count": 35,
   "id": "0d0339a8",
   "metadata": {},
   "outputs": [],
   "source": [
    "#split the data to train and test \n",
    "X= data['sentence'] \n",
    "y= data['sentiment']\n",
    "X_train, X_test, y_train, y_test = train_test_split(X, y, test_size = 0.2)"
   ]
  },
  {
   "cell_type": "code",
   "execution_count": 36,
   "id": "9461746e",
   "metadata": {},
   "outputs": [],
   "source": [
    "# Create a transformation pipeline\n",
    "# The pipeline sequentially applies a list of transforms and as a final estimator logistic regression \n",
    "pipeline_log = Pipeline([\n",
    "                ('count', CountVectorizer()),#Convert a collection of text documents to a matrix of token counts.\n",
    "                ('tfidf', TfidfTransformer()),#Transform a count matrix to a normalized tf or tf-idf representation.\n",
    "                ('clf', LogisticRegression(solver='saga', multi_class='auto')),\n",
    "        ])"
   ]
  },
  {
   "cell_type": "code",
   "execution_count": 37,
   "id": "35381a3a",
   "metadata": {},
   "outputs": [],
   "source": [
    "# Train model using the created sklearn pipeline\n",
    "model_lgr = pipeline_log.fit(X_train,  y_train)"
   ]
  },
  {
   "cell_type": "code",
   "execution_count": 38,
   "id": "beb05a85",
   "metadata": {},
   "outputs": [
    {
     "data": {
      "text/plain": [
       "array([2, 2, 2, 2, 2, 2, 1, 2, 2, 2, 2, 2, 2, 3, 2, 2, 2, 2, 2, 2, 3, 2,\n",
       "       2, 2, 2, 2, 2, 2, 2, 3, 2, 2, 2, 3, 2, 2, 3, 2, 2, 3, 3, 2, 1, 2,\n",
       "       2, 2, 2, 1, 2, 1, 2, 2, 2, 2, 2, 2, 2, 2, 2, 2, 3, 2, 2, 2, 2, 2,\n",
       "       2, 3, 2, 2, 2, 2, 3, 2, 2, 2, 2, 3, 2, 2, 2, 2, 3, 2, 2, 2, 3, 2,\n",
       "       2, 2, 1, 2, 3, 3, 2, 1, 2, 2, 3, 2, 2, 2, 2, 2, 2, 2, 2, 3, 2, 1,\n",
       "       2, 2, 2, 2, 2, 2, 2, 2, 2, 2, 2, 3, 1, 1, 2, 2, 3, 2, 3, 2, 2, 1,\n",
       "       2, 3, 3, 1, 3, 3, 2, 3, 2, 3, 3, 3, 2, 1, 2, 2, 2, 3, 2, 2, 2, 3,\n",
       "       2, 2, 2, 2, 2, 3, 2, 2, 2, 2, 3, 2, 2, 2, 2, 2, 2, 3, 3, 3, 2, 3,\n",
       "       2, 3, 2, 2, 2, 2, 3, 2, 2, 2, 2, 2, 2, 2, 2, 3, 2, 2, 1, 3, 2, 3,\n",
       "       3, 1, 2, 3, 2, 2, 2, 2, 2, 3, 2, 2, 2, 2, 2, 2, 2, 2, 3, 2, 2, 2,\n",
       "       2, 2, 2, 3, 1, 2, 3, 2, 3, 2, 2, 2, 2, 2, 3, 3, 2, 2, 3, 2, 2, 2,\n",
       "       2, 3, 2, 1, 2, 2, 2, 3, 2, 2, 2, 2, 3, 2, 2, 3, 2, 2, 2, 2, 2, 2,\n",
       "       2, 2, 2, 2, 2, 3, 2, 2, 2, 2, 2, 2, 3, 3, 2, 2, 2, 2, 2, 2, 2, 3,\n",
       "       1, 2, 2, 2, 3, 2, 2, 2, 2, 2, 1, 2, 2, 2, 3, 2, 3, 2, 2, 2, 2, 1,\n",
       "       2, 2, 2, 3, 2, 3, 2, 1, 3, 3, 2, 2, 2, 2, 3, 2, 2, 2, 2, 3, 1, 3,\n",
       "       3, 1, 2, 3, 2, 2, 2, 2, 2, 1, 3, 2, 1, 2, 2, 3, 2, 2, 2, 3, 2, 2,\n",
       "       2, 2, 2, 2, 2, 1, 2, 2, 2, 3, 3, 2, 2, 3, 2, 2, 2, 2, 2, 1, 2, 2,\n",
       "       2, 2, 1, 2, 2, 3, 2, 1, 1, 2, 2, 2, 2, 2, 2, 2, 2, 2, 2, 3, 1, 2,\n",
       "       1, 2, 2, 2, 2, 3, 3, 2, 2, 2, 2, 2, 2, 2, 2, 2, 2, 3, 2, 2, 2, 2,\n",
       "       2, 3, 2, 2, 2, 2, 2, 2, 2, 2, 2, 2, 2, 3, 3, 3, 2, 2, 3, 1, 2, 2,\n",
       "       2, 3, 2, 2, 2, 2, 2, 2, 2, 2, 2, 3, 2, 3, 2, 2, 2, 2, 2, 2, 2, 3,\n",
       "       2, 2, 2, 2, 2, 2, 2, 2, 2, 2, 3, 2, 2, 3, 2, 2, 2, 2, 2, 2, 2, 1,\n",
       "       1, 2, 2, 2, 2, 2, 1, 2, 1, 2, 2, 2, 2, 2, 2, 3, 3, 2, 3, 2, 2, 2,\n",
       "       3, 2, 2, 3, 3, 2, 3, 2, 1, 1, 2, 2, 2, 2, 3, 2, 3, 3, 2, 2, 2, 2,\n",
       "       2, 2, 2, 2, 2, 2, 2, 1, 3, 2, 1, 2, 2, 3, 2, 2, 2, 2, 2, 3, 2, 2,\n",
       "       3, 2, 2, 1, 2, 2, 2, 3, 2, 2, 2, 3, 3, 2, 1, 3, 2, 1, 3, 3, 3, 2,\n",
       "       2, 3, 2, 3, 3, 2, 2, 2, 2, 2, 3, 3, 1, 2, 2, 2, 2, 2, 2, 3, 2, 2,\n",
       "       2, 2, 2, 2, 2, 2, 2, 3, 2, 2, 2, 2, 2, 2, 2, 2, 2, 2, 3, 2, 3, 2,\n",
       "       3, 2, 3, 3, 2, 2, 2, 2, 1, 2, 2, 2, 2, 2, 2, 2, 2, 1, 2, 2, 2, 2,\n",
       "       2, 2, 2, 2, 3, 1, 2, 2, 2, 2, 2, 3, 1, 3, 2, 2, 2, 2, 2, 2, 3, 2,\n",
       "       2, 2, 2, 2, 2, 2, 2, 3, 2, 2, 2, 2, 3, 2, 2, 2, 2, 3, 3, 2, 3, 2,\n",
       "       2, 2, 2, 2, 2, 2, 3, 2, 2, 3, 2, 3, 2, 2, 2, 2, 2, 2, 3, 2, 2, 2,\n",
       "       2, 3, 3, 2, 2, 2, 2, 2, 2, 2, 3, 2, 2, 3, 2, 1, 2, 3, 2, 2, 1, 2,\n",
       "       2, 2, 2, 3, 2, 3, 2, 3, 2, 2, 2, 3, 2, 1, 2, 2, 2, 2, 2, 3, 2, 2,\n",
       "       3, 2, 3, 2, 2, 3, 2, 2, 2, 2, 2, 2, 2, 2, 2, 1, 2, 2, 2, 2, 3, 2,\n",
       "       3, 2, 1, 3, 2, 2, 2, 3, 2, 3, 1, 2, 2, 2, 1, 1, 2, 2, 2, 2, 2, 2,\n",
       "       3, 2, 2, 2, 2, 2, 2, 2, 2, 3, 2, 2, 2, 3, 2, 2, 2, 2, 2, 2, 2, 2,\n",
       "       2, 2, 2, 1, 2, 2, 2, 3, 3, 2, 2, 2, 2, 2, 3, 2, 3, 2, 2, 2, 2, 2,\n",
       "       2, 2, 1, 2, 3, 2, 3, 2, 2, 2, 3, 2, 2, 2, 3, 2, 2, 2, 3, 2, 2, 2,\n",
       "       2, 2, 2, 2, 2, 2, 1, 2, 3, 2, 2, 2, 2, 2, 3, 2, 2, 2, 3, 2, 2, 2,\n",
       "       3, 2, 2, 2, 2, 2, 2, 2, 2, 3, 2, 2, 2, 2, 2, 2, 2, 2, 3, 2, 2, 2,\n",
       "       3, 2, 2, 2, 2, 2, 2, 2, 3, 2, 2, 2, 1, 3, 2, 3, 2, 2, 2, 2, 2, 2,\n",
       "       2, 2, 1, 2, 2, 2, 3, 2, 2, 2, 2, 3, 3, 3, 3, 2, 2, 2, 2, 2, 2, 2,\n",
       "       2, 2, 2, 2, 2, 2, 2, 2, 2, 2, 3, 2, 2, 2, 2, 2, 2, 2, 1, 2, 2, 2,\n",
       "       2, 2], dtype=int64)"
      ]
     },
     "execution_count": 38,
     "metadata": {},
     "output_type": "execute_result"
    }
   ],
   "source": [
    "y_pred = model_lgr.predict(X_test)\n",
    "y_pred"
   ]
  },
  {
   "cell_type": "code",
   "execution_count": 39,
   "id": "a967a15c",
   "metadata": {},
   "outputs": [
    {
     "name": "stdout",
     "output_type": "stream",
     "text": [
      "              precision    recall  f1-score   support\n",
      "\n",
      "           1       0.82      0.49      0.61       104\n",
      "           2       0.76      0.93      0.84       593\n",
      "           3       0.72      0.49      0.59       273\n",
      "\n",
      "    accuracy                           0.76       970\n",
      "   macro avg       0.77      0.64      0.68       970\n",
      "weighted avg       0.76      0.76      0.74       970\n",
      "\n"
     ]
    }
   ],
   "source": [
    "print(classification_report(y_test, y_pred))"
   ]
  },
  {
   "cell_type": "markdown",
   "id": "f0d45124",
   "metadata": {},
   "source": [
    "After doing logistc regression classifer: we can see that the data here is imbalnace theres is less samples for nutral class and less number of sample for positive class. "
   ]
  },
  {
   "cell_type": "markdown",
   "id": "861036f8",
   "metadata": {},
   "source": [
    "Step #4 Make Test Predictions"
   ]
  },
  {
   "cell_type": "code",
   "execution_count": 47,
   "id": "c2aab08c",
   "metadata": {},
   "outputs": [
    {
     "name": "stdout",
     "output_type": "stream",
     "text": [
      "nice weather! -----> neutral\n",
      "small bird -----> neutral\n"
     ]
    }
   ],
   "source": [
    "testphrases = ['nice weather!', 'small bird']\n",
    "for testphrase in testphrases:\n",
    "    resultx = model_lgr.predict([testphrase]) \n",
    "    dict = {1: 'negative', 2: 'neutral', 3: 'positive'}\n",
    "    print(testphrase + ' -----> ' + dict[resultx[0]])"
   ]
  },
  {
   "cell_type": "markdown",
   "id": "dfc56d80",
   "metadata": {},
   "source": [
    "findings: the accuracy of the model need to be increase since the model could it predicate the first sentance correctly. "
   ]
  }
 ],
 "metadata": {
  "kernelspec": {
   "display_name": "Python 3 (ipykernel)",
   "language": "python",
   "name": "python3"
  },
  "language_info": {
   "codemirror_mode": {
    "name": "ipython",
    "version": 3
   },
   "file_extension": ".py",
   "mimetype": "text/x-python",
   "name": "python",
   "nbconvert_exporter": "python",
   "pygments_lexer": "ipython3",
   "version": "3.8.8"
  }
 },
 "nbformat": 4,
 "nbformat_minor": 5
}
